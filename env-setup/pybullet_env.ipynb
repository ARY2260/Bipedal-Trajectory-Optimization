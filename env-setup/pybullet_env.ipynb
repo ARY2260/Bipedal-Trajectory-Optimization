{
 "cells": [
  {
   "cell_type": "code",
   "execution_count": 1,
   "metadata": {},
   "outputs": [
    {
     "name": "stderr",
     "output_type": "stream",
     "text": [
      "pybullet build time: Oct 11 2021 21:00:24\n"
     ]
    }
   ],
   "source": [
    "import pybullet as p\n"
   ]
  },
  {
   "cell_type": "code",
   "execution_count": 2,
   "metadata": {},
   "outputs": [
    {
     "name": "stdout",
     "output_type": "stream",
     "text": [
      "startThreads creating 1 threads.\n",
      "starting thread 0\n",
      "started thread 0 \n",
      "argc=2\n",
      "argv[0] = --unused\n",
      "argv[1] = --start_demo_name=Physics Server\n",
      "ExampleBrowserThreadFunc started\n",
      "X11 functions dynamically loaded using dlopen/dlsym OK!\n",
      "X11 functions dynamically loaded using dlopen/dlsym OK!\n",
      "Creating context\n",
      "Created GL 3.3 context\n",
      "Direct GLX rendering context obtained\n",
      "Making context current\n",
      "GL_VENDOR=NVIDIA Corporation\n",
      "GL_RENDERER=NVIDIA GeForce MX230/PCIe/SSE2\n",
      "GL_VERSION=3.3.0 NVIDIA 470.82.00\n",
      "GL_SHADING_LANGUAGE_VERSION=3.30 NVIDIA via Cg compiler\n",
      "pthread_getconcurrency()=0\n",
      "Version = 3.3.0 NVIDIA 470.82.00\n",
      "Vendor = NVIDIA Corporation\n",
      "Renderer = NVIDIA GeForce MX230/PCIe/SSE2\n",
      "b3Printf: Selected demo: Physics Server\n",
      "startThreads creating 1 threads.\n",
      "starting thread 0\n",
      "started thread 0 \n",
      "MotionThreadFunc thread started\n",
      "ven = NVIDIA Corporation\n"
     ]
    },
    {
     "data": {
      "text/plain": [
       "{'isConnected': 1, 'connectionMethod': 1}"
      ]
     },
     "execution_count": 2,
     "metadata": {},
     "output_type": "execute_result"
    },
    {
     "name": "stdout",
     "output_type": "stream",
     "text": [
      "ven = NVIDIA Corporation\n"
     ]
    }
   ],
   "source": [
    "physicsClientID = p.connect(p.GUI)\n",
    "\n",
    "p.getConnectionInfo(physicsClientID)\n"
   ]
  },
  {
   "cell_type": "code",
   "execution_count": 57,
   "metadata": {},
   "outputs": [],
   "source": [
    "import pybullet_data\n",
    "\n",
    "p.setAdditionalSearchPath(pybullet_data.getDataPath())\n"
   ]
  },
  {
   "cell_type": "code",
   "execution_count": 58,
   "metadata": {},
   "outputs": [],
   "source": [
    "# plane = p.loadURDF('plane.urdf')\n"
   ]
  },
  {
   "cell_type": "code",
   "execution_count": 69,
   "metadata": {},
   "outputs": [
    {
     "name": "stdout",
     "output_type": "stream",
     "text": [
      "b3Printf: b3Warning[examples/Importers/ImportURDFDemo/BulletUrdfImporter.cpp,126]:\n",
      "\n",
      "b3Printf: urdfdom: no axis element for Joint, defaulting to (1,0,0) axis chest\n",
      "\n",
      "b3Printf: b3Warning[examples/Importers/ImportURDFDemo/BulletUrdfImporter.cpp,126]:\n",
      "\n",
      "b3Printf: urdfdom: no axis element for Joint, defaulting to (1,0,0) axis neck\n",
      "\n",
      "b3Printf: b3Warning[examples/Importers/ImportURDFDemo/BulletUrdfImporter.cpp,126]:\n",
      "\n",
      "b3Printf: urdfdom: no axis element for Joint, defaulting to (1,0,0) axis right_shoulder\n",
      "\n",
      "b3Printf: b3Warning[examples/Importers/ImportURDFDemo/BulletUrdfImporter.cpp,126]:\n",
      "\n",
      "b3Printf: urdfdom: no axis element for Joint, defaulting to (1,0,0) axis left_shoulder\n",
      "\n"
     ]
    }
   ],
   "source": [
    "StartPos = [0, 0, 8]\n",
    "StartOrientation = p.getQuaternionFromEuler([1.57, 0, 0])\n",
    "robot = p.loadURDF(\"humanoid.urdf\", StartPos, StartOrientation, useFixedBase=1)\n"
   ]
  },
  {
   "cell_type": "code",
   "execution_count": 70,
   "metadata": {},
   "outputs": [
    {
     "data": {
      "text/plain": [
       "((0.0, 0.0, 8.0), (0.706825181105366, -0.0, -0.0, 0.7073882691671998))"
      ]
     },
     "execution_count": 70,
     "metadata": {},
     "output_type": "execute_result"
    }
   ],
   "source": [
    "position, orientation = p.getBasePositionAndOrientation(robot)\n",
    "\n",
    "position, orientation\n"
   ]
  },
  {
   "cell_type": "code",
   "execution_count": 71,
   "metadata": {},
   "outputs": [],
   "source": [
    "numBodies = p.getNumBodies()\n",
    "\n",
    "numJoints = p.getNumJoints(robot)\n"
   ]
  },
  {
   "cell_type": "code",
   "execution_count": 72,
   "metadata": {},
   "outputs": [],
   "source": [
    "p.setGravity(0, 0, 0)\n"
   ]
  },
  {
   "cell_type": "code",
   "execution_count": 73,
   "metadata": {},
   "outputs": [
    {
     "name": "stdout",
     "output_type": "stream",
     "text": [
      "4 'right_elbow'\n",
      "7 'left_elbow'\n",
      "9 'right_hip'\n",
      "10 'right_knee'\n",
      "11 'right_ankle'\n",
      "12 'left_hip'\n",
      "13 'left_knee'\n",
      "14 'left_ankle'\n"
     ]
    }
   ],
   "source": [
    "for i in range(numJoints):\n",
    "    if p.getJointInfo(robot, i)[2] == 0:\n",
    "        print(p.getJointInfo(robot, i)[0], str(\n",
    "            p.getJointInfo(robot, i)[1]).lstrip('b'))\n"
   ]
  },
  {
   "cell_type": "code",
   "execution_count": 74,
   "metadata": {},
   "outputs": [],
   "source": [
    "def joint_control(joint_index, target_angle, bodyID=robot):\n",
    "\n",
    "    p.setRealTimeSimulation(1)\n",
    "    p.setJointMotorControl2(bodyIndex=bodyID,\n",
    "                            jointIndex=joint_index,\n",
    "                            controlMode=p.POSITION_CONTROL,\n",
    "                            targetPosition=target_angle)\n",
    "\n",
    "    # p.setRealTimeSimulation(0)\n"
   ]
  },
  {
   "cell_type": "code",
   "execution_count": 75,
   "metadata": {},
   "outputs": [],
   "source": [
    "joint_control(10, -1.57)\n"
   ]
  },
  {
   "cell_type": "code",
   "execution_count": 76,
   "metadata": {},
   "outputs": [],
   "source": [
    "joint_control(10,0)\n",
    "#reset joint angle"
   ]
  },
  {
   "cell_type": "code",
   "execution_count": 68,
   "metadata": {},
   "outputs": [],
   "source": [
    "p.resetSimulation()\n",
    "# go to urdf loading cell"
   ]
  }
 ],
 "metadata": {
  "interpreter": {
   "hash": "49a5f4cc1c35447d320954bfde3569d053175fc1a6391117b86202c02ade1e33"
  },
  "kernelspec": {
   "display_name": "Python 3.9.7 64-bit ('pyb_env': conda)",
   "language": "python",
   "name": "python3"
  },
  "language_info": {
   "codemirror_mode": {
    "name": "ipython",
    "version": 3
   },
   "file_extension": ".py",
   "mimetype": "text/x-python",
   "name": "python",
   "nbconvert_exporter": "python",
   "pygments_lexer": "ipython3",
   "version": "3.9.7"
  },
  "orig_nbformat": 4
 },
 "nbformat": 4,
 "nbformat_minor": 2
}
