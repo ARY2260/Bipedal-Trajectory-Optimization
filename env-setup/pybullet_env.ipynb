{
 "cells": [
  {
   "cell_type": "code",
   "execution_count": 1,
   "metadata": {},
   "outputs": [
    {
     "name": "stderr",
     "output_type": "stream",
     "text": [
      "pybullet build time: Oct 11 2021 21:00:24\n"
     ]
    }
   ],
   "source": [
    "import pybullet as p\n",
    "import math\n",
    "import time"
   ]
  },
  {
   "cell_type": "code",
   "execution_count": 8,
   "metadata": {},
   "outputs": [
    {
     "ename": "error",
     "evalue": "Only one local in-process GUI/GUI_SERVER connection allowed. Use DIRECT connection mode or start a separate GUI physics server (ExampleBrowser, App_SharedMemoryPhysics_GUI, App_SharedMemoryPhysics_VR) and connect over SHARED_MEMORY, UDP or TCP instead.",
     "output_type": "error",
     "traceback": [
      "\u001b[0;31m---------------------------------------------------------------------------\u001b[0m",
      "\u001b[0;31merror\u001b[0m                                     Traceback (most recent call last)",
      "\u001b[0;32m/tmp/ipykernel_59384/993027846.py\u001b[0m in \u001b[0;36m<module>\u001b[0;34m\u001b[0m\n\u001b[0;32m----> 1\u001b[0;31m \u001b[0mphysicsClientID\u001b[0m \u001b[0;34m=\u001b[0m \u001b[0mp\u001b[0m\u001b[0;34m.\u001b[0m\u001b[0mconnect\u001b[0m\u001b[0;34m(\u001b[0m\u001b[0mp\u001b[0m\u001b[0;34m.\u001b[0m\u001b[0mGUI\u001b[0m\u001b[0;34m)\u001b[0m\u001b[0;34m\u001b[0m\u001b[0;34m\u001b[0m\u001b[0m\n\u001b[0m\u001b[1;32m      2\u001b[0m \u001b[0;34m\u001b[0m\u001b[0m\n\u001b[1;32m      3\u001b[0m \u001b[0mp\u001b[0m\u001b[0;34m.\u001b[0m\u001b[0mgetConnectionInfo\u001b[0m\u001b[0;34m(\u001b[0m\u001b[0mphysicsClientID\u001b[0m\u001b[0;34m)\u001b[0m\u001b[0;34m\u001b[0m\u001b[0;34m\u001b[0m\u001b[0m\n",
      "\u001b[0;31merror\u001b[0m: Only one local in-process GUI/GUI_SERVER connection allowed. Use DIRECT connection mode or start a separate GUI physics server (ExampleBrowser, App_SharedMemoryPhysics_GUI, App_SharedMemoryPhysics_VR) and connect over SHARED_MEMORY, UDP or TCP instead."
     ]
    }
   ],
   "source": [
    "physicsClientID = p.connect(p.GUI)\n",
    "\n",
    "p.getConnectionInfo(physicsClientID)"
   ]
  },
  {
   "cell_type": "code",
   "execution_count": 9,
   "metadata": {},
   "outputs": [
    {
     "name": "stdout",
     "output_type": "stream",
     "text": [
      "b3Printf: b3Warning[examples/Importers/ImportURDFDemo/BulletUrdfImporter.cpp,126]:\n",
      "\n",
      "b3Printf: urdfdom: no axis element for Joint, defaulting to (1,0,0) axis chest\n",
      "\n",
      "b3Printf: b3Warning[examples/Importers/ImportURDFDemo/BulletUrdfImporter.cpp,126]:\n",
      "\n",
      "b3Printf: urdfdom: no axis element for Joint, defaulting to (1,0,0) axis neck\n",
      "\n",
      "b3Printf: b3Warning[examples/Importers/ImportURDFDemo/BulletUrdfImporter.cpp,126]:\n",
      "\n",
      "b3Printf: urdfdom: no axis element for Joint, defaulting to (1,0,0) axis right_shoulder\n",
      "\n",
      "b3Printf: b3Warning[examples/Importers/ImportURDFDemo/BulletUrdfImporter.cpp,126]:\n",
      "\n",
      "b3Printf: urdfdom: no axis element for Joint, defaulting to (1,0,0) axis left_shoulder\n",
      "\n"
     ]
    }
   ],
   "source": [
    "import pybullet_data\n",
    "\n",
    "p.setAdditionalSearchPath(pybullet_data.getDataPath())\n",
    "# plane = p.loadURDF('plane.urdf')\n",
    "StartPos = [0, 0, 3]\n",
    "StartOrientation = p.getQuaternionFromEuler([1.57, 0, 0])\n",
    "robot = p.loadURDF(\"humanoid.urdf\", StartPos, StartOrientation, useFixedBase=1)\n",
    "position, orientation = p.getBasePositionAndOrientation(robot)\n",
    "numBodies = p.getNumBodies()\n",
    "\n",
    "numJoints = p.getNumJoints(robot)\n",
    "p.setGravity(0, 0, 0)"
   ]
  },
  {
   "cell_type": "code",
   "execution_count": 4,
   "metadata": {},
   "outputs": [
    {
     "name": "stdout",
     "output_type": "stream",
     "text": [
      "4 'right_elbow'\n",
      "7 'left_elbow'\n",
      "10 'right_knee'\n",
      "11 'right_ankle'\n",
      "12 'left_hip'\n",
      "13 'left_knee'\n",
      "14 'left_ankle'\n"
     ]
    }
   ],
   "source": [
    "for i in range(numJoints):\n",
    "    if p.getJointInfo(robot, i)[2] == 0:\n",
    "        print(p.getJointInfo(robot, i)[0], str(\n",
    "            p.getJointInfo(robot, i)[1]).lstrip('b'))"
   ]
  },
  {
   "cell_type": "code",
   "execution_count": 5,
   "metadata": {},
   "outputs": [],
   "source": [
    "def joint_control_pos(joint_index, target_angle, bodyID=robot):\n",
    "\n",
    "    p.setRealTimeSimulation(1)\n",
    "    p.setJointMotorControl2(bodyIndex=bodyID,\n",
    "                            jointIndex=joint_index,\n",
    "                            controlMode=p.POSITION_CONTROL,\n",
    "                            targetPosition=target_angle)\n",
    "\n",
    "    # p.setRealTimeSimulation(0)\n"
   ]
  },
  {
   "cell_type": "code",
   "execution_count": 10,
   "metadata": {},
   "outputs": [],
   "source": [
    "def VMAX(jointIndex, timePeriod, bodyID):\n",
    "    lowerLimit = p.getJointInfo(bodyID, jointIndex)[8]\n",
    "    upperLimit = p.getJointInfo(bodyID, jointIndex)[9]\n",
    "    Vmax = -1*((upperLimit - lowerLimit) * math.pi) / timePeriod\n",
    "    return Vmax\n",
    "\n",
    "def velocity(timePeriod,Vmax,t):\n",
    "    frequency = 2*math.pi/timePeriod\n",
    "    return Vmax*math.sin(frequency*(t))\n",
    "\n",
    "def joint_control_vel_sin(joint_index, timePeriod = 1, bodyID=robot):\n",
    "    t=0\n",
    "    timeStep = 0.01\n",
    "    maxForce = 1\n",
    "    vmax = VMAX(joint_index,timePeriod, bodyID)\n",
    "    p.setRealTimeSimulation(1)\n",
    "    while(t<=timePeriod):\n",
    "        targetVel = velocity(timePeriod,vmax,t)\n",
    "        if(targetVel==0):\n",
    "            maxForce = 0\n",
    "        else:\n",
    "            maxForce = 1*targetVel/abs(targetVel)\n",
    "        p.setJointMotorControl2(bodyID, joint_index, p.VELOCITY_CONTROL, targetVel, maxForce)\n",
    "        time.sleep(timeStep)\n",
    "        t += timeStep\n"
   ]
  },
  {
   "cell_type": "code",
   "execution_count": 25,
   "metadata": {},
   "outputs": [],
   "source": [
    "p.setRealTimeSimulation(0)"
   ]
  },
  {
   "cell_type": "code",
   "execution_count": 46,
   "metadata": {},
   "outputs": [],
   "source": [
    "p.setJointMotorControl2(robot, 9, p.POSITION_CONTROL, 0, 100)"
   ]
  },
  {
   "cell_type": "code",
   "execution_count": 11,
   "metadata": {},
   "outputs": [
    {
     "data": {
      "text/plain": [
       "(-0.004164704970622795, 1.0, (0.0, 0.0, 0.0, 0.0, 0.0, 0.0), 0.507558814033154)"
      ]
     },
     "execution_count": 11,
     "metadata": {},
     "output_type": "execute_result"
    }
   ],
   "source": [
    "joint_control_vel_sin(10)\n",
    "p.getJointState(robot,10)"
   ]
  },
  {
   "cell_type": "code",
   "execution_count": 6,
   "metadata": {},
   "outputs": [],
   "source": [
    "joint_control_pos(10, -1.57)\n"
   ]
  },
  {
   "cell_type": "code",
   "execution_count": 32,
   "metadata": {},
   "outputs": [],
   "source": [
    "joint_control_pos(10,0)\n",
    "#reset joint angle"
   ]
  },
  {
   "cell_type": "code",
   "execution_count": 7,
   "metadata": {},
   "outputs": [],
   "source": [
    "p.resetSimulation()\n",
    "# go to urdf loading cell"
   ]
  },
  {
   "cell_type": "code",
   "execution_count": 5,
   "metadata": {},
   "outputs": [],
   "source": []
  }
 ],
 "metadata": {
  "interpreter": {
   "hash": "49a5f4cc1c35447d320954bfde3569d053175fc1a6391117b86202c02ade1e33"
  },
  "kernelspec": {
   "display_name": "Python 3.9.7 64-bit ('pyb_env': conda)",
   "language": "python",
   "name": "python3"
  },
  "language_info": {
   "codemirror_mode": {
    "name": "ipython",
    "version": 3
   },
   "file_extension": ".py",
   "mimetype": "text/x-python",
   "name": "python",
   "nbconvert_exporter": "python",
   "pygments_lexer": "ipython3",
   "version": "3.9.7"
  },
  "orig_nbformat": 4
 },
 "nbformat": 4,
 "nbformat_minor": 2
}
